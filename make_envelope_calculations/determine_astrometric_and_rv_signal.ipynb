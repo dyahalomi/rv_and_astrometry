{
 "cells": [
  {
   "cell_type": "code",
   "execution_count": 6,
   "metadata": {},
   "outputs": [],
   "source": [
    "import numpy as np\n",
    "import matplotlib.pyplot as plt\n",
    "import matplotlib\n",
    "from matplotlib import ticker\n",
    "# use latex for font rendering\n",
    "matplotlib.rc('font', **{'family': 'serif', 'serif': ['Computer Modern']})\n",
    "matplotlib.rc('text', usetex=True)\n"
   ]
  },
  {
   "cell_type": "code",
   "execution_count": 7,
   "metadata": {},
   "outputs": [],
   "source": [
    "from astropy import units as u\n",
    "from astropy.constants import G, M_earth, M_sun\n",
    "\n",
    "\n",
    "m_p = [\n",
    "    1. * M_earth,\n",
    "    317.96 * M_earth,\n",
    "    95.16 * M_earth\n",
    "      ]\n",
    "       \n",
    "period_astrometry = [\n",
    "    (293. * u.d).to(u.s),\n",
    "    (4327. * u.d).to(u.s),\n",
    "    (10740. * u.d).to(u.s)\n",
    "                    ]\n",
    "\n",
    "\n",
    "\n",
    "ecc = [\n",
    "    0.0167,\n",
    "    0.0484,\n",
    "    0.0539\n",
    "]\n",
    "\n",
    "distance = 10.\n",
    "m_s = 1.*M_sun\n",
    "\n",
    "\n",
    "\n",
    "\n",
    "\n",
    "\n"
   ]
  },
  {
   "cell_type": "code",
   "execution_count": 8,
   "metadata": {},
   "outputs": [],
   "source": [
    "def get_semi_major_axis(period, mp, mstar, ecc):\n",
    "    a_third = ((G * (mp+mstar) * (period**2.)) / (4 * (np.pi**2.))) \n",
    "    a = a_third ** (1./3.)\n",
    "    \n",
    "    a_w_ecc = a / np.sqrt(1 - ecc**2.)\n",
    "    \n",
    "    return a_w_ecc\n"
   ]
  },
  {
   "cell_type": "code",
   "execution_count": 9,
   "metadata": {},
   "outputs": [],
   "source": [
    "def get_astrometric_signal(period, m_p, m_s, ecc, distance):\n",
    "    a_p = get_semi_major_axis(period, m_p, m_s, ecc)\n",
    "    a_p_au = a_p.to(u.au)\n",
    "\n",
    "    a_s = a_p * (m_p / m_s)\n",
    "    a_s_au = a_s.to(u.au)\n",
    "    \n",
    "    #use small angle approx to return astrom signal in microarcseconds\n",
    "    return (a_s_au/distance).value * 10**6.\n",
    "\n",
    "    "
   ]
  },
  {
   "cell_type": "code",
   "execution_count": 10,
   "metadata": {},
   "outputs": [
    {
     "name": "stdout",
     "output_type": "stream",
     "text": [
      "0.25933824161483315\n",
      "497.01751093612086\n",
      "272.70362560195264\n"
     ]
    }
   ],
   "source": [
    "for ii in range(0, len(m_p)):\n",
    "    print(get_astrometric_signal(period_astrometry[ii], \n",
    "                                 m_p[ii], \n",
    "                                 m_s, \n",
    "                                 ecc[ii], \n",
    "                                 distance))"
   ]
  },
  {
   "cell_type": "markdown",
   "metadata": {},
   "source": [
    "# now determine RV semi-amplitude"
   ]
  },
  {
   "cell_type": "code",
   "execution_count": 11,
   "metadata": {},
   "outputs": [],
   "source": [
    "from astropy.constants import G\n",
    "\n",
    "def rv_semi_amplitude(P, e, mp, mstar, i):\n",
    "    \n",
    "    first_term = (((2 * np.pi * G) / P) ** (1/3))\n",
    "    second_term = ((mp*np.sin(i))/((mp+mstar)**(2/3)))\n",
    "    third_term = (1 / (np.sqrt(1-e**2)))\n",
    "    \n",
    "    K = first_term * second_term * third_term\n",
    "    \n",
    "    return K\n",
    "                                          \n",
    "                                          \n",
    "                                          \n",
    "                                          \n",
    "                                          \n",
    "                                  "
   ]
  },
  {
   "cell_type": "code",
   "execution_count": 16,
   "metadata": {},
   "outputs": [
    {
     "name": "stdout",
     "output_type": "stream",
     "text": [
      "[1.0471975511965976, 1.069886831472524, 1.090830782496456]\n"
     ]
    }
   ],
   "source": [
    "from astropy import units as u\n",
    "from astropy.constants import G, M_earth, M_sun\n",
    "\n",
    "\n",
    "m_p = [\n",
    "    1. * M_earth,\n",
    "    317.96 * M_earth,\n",
    "    95.16 * M_earth\n",
    "      ]\n",
    "       \n",
    "period_astrometry = [\n",
    "    (293. * u.d).to(u.s),\n",
    "    (4327. * u.d).to(u.s),\n",
    "    (10740. * u.d).to(u.s)\n",
    "                    ]\n",
    "\n",
    "\n",
    "\n",
    "ecc = [\n",
    "    0.0167,\n",
    "    0.0484,\n",
    "    0.0539\n",
    "]\n",
    "\n",
    "inclination = [\n",
    "    np.radians(60.),\n",
    "    np.radians(61.3),\n",
    "    np.radians(62.5)\n",
    "]\n",
    "\n",
    "\n",
    "distance = 10.\n",
    "m_s = 1.*M_sun\n",
    "\n"
   ]
  },
  {
   "cell_type": "code",
   "execution_count": 18,
   "metadata": {},
   "outputs": [
    {
     "name": "stdout",
     "output_type": "stream",
     "text": [
      "0.08339112000055997 m / s\n",
      "10.95049502824075 m / s\n",
      "2.449531245708929 m / s\n"
     ]
    }
   ],
   "source": [
    "for ii in range(0, len(m_p)):\n",
    "    print(rv_semi_amplitude(period_astrometry[ii],\n",
    "                            ecc[ii],\n",
    "                            m_p[ii], \n",
    "                            m_s,\n",
    "                            inclination[ii]))"
   ]
  },
  {
   "cell_type": "code",
   "execution_count": null,
   "metadata": {},
   "outputs": [],
   "source": []
  }
 ],
 "metadata": {
  "kernelspec": {
   "display_name": "Python 3 (ipykernel)",
   "language": "python",
   "name": "python3"
  },
  "language_info": {
   "codemirror_mode": {
    "name": "ipython",
    "version": 3
   },
   "file_extension": ".py",
   "mimetype": "text/x-python",
   "name": "python",
   "nbconvert_exporter": "python",
   "pygments_lexer": "ipython3",
   "version": "3.9.7"
  }
 },
 "nbformat": 4,
 "nbformat_minor": 2
}
